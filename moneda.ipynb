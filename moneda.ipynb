{
 "cells": [
  {
   "cell_type": "code",
   "execution_count": 34,
   "id": "b7de5fcf",
   "metadata": {},
   "outputs": [],
   "source": [
    "import random"
   ]
  },
  {
   "cell_type": "code",
   "execution_count": 35,
   "id": "3abf707d",
   "metadata": {},
   "outputs": [],
   "source": [
    "class Moneda:\n",
    "    def __init__(self):\n",
    "        self.historial = \"\"\n",
    "        \n",
    "    def tirar_una(self):\n",
    "        self.historial += str(random.randint(0,1))\n",
    "\n",
    "            \n",
    "    def evaluar(self, secuencia):\n",
    "        return secuencia in self.historial\n",
    "    "
   ]
  },
  {
   "cell_type": "code",
   "execution_count": 71,
   "id": "3b121bff",
   "metadata": {},
   "outputs": [],
   "source": [
    "resultados100 = []\n",
    "k  = int(1e6)\n",
    "for n in range(k):\n",
    "    moneda = Moneda()\n",
    "    while not moneda.evaluar(\"100\"):\n",
    "        moneda.tirar_una()\n",
    "        resultados100.append(len(moneda.historial))\n",
    "        \n",
    "resultados010 = []\n",
    "for n in range(k):\n",
    "    moneda = Moneda()\n",
    "    while not moneda.evaluar(\"010\"):\n",
    "        moneda.tirar_una()\n",
    "        resultados010.append(len(moneda.historial))\n",
    "        \n",
    "resultados001 = []\n",
    "for n in range(k):\n",
    "    moneda = Moneda()\n",
    "    while not moneda.evaluar(\"001\"):\n",
    "        moneda.tirar_una()\n",
    "        resultados001.append(len(moneda.historial))\n",
    "\n",
    "\n"
   ]
  },
  {
   "cell_type": "code",
   "execution_count": 72,
   "id": "7fafff31",
   "metadata": {},
   "outputs": [
    {
     "data": {
      "text/plain": [
       "[5.999726199131585, 8.389008874029614, 6.00377025590612]"
      ]
     },
     "execution_count": 72,
     "metadata": {},
     "output_type": "execute_result"
    }
   ],
   "source": [
    "import numpy as np\n",
    "[np.mean(i) for i in [resultados001,resultados010, resultados100]]"
   ]
  },
  {
   "cell_type": "code",
   "execution_count": null,
   "id": "b6b9f9d0",
   "metadata": {},
   "outputs": [],
   "source": []
  }
 ],
 "metadata": {
  "kernelspec": {
   "display_name": "Python 3 (ipykernel)",
   "language": "python",
   "name": "python3"
  },
  "language_info": {
   "codemirror_mode": {
    "name": "ipython",
    "version": 3
   },
   "file_extension": ".py",
   "mimetype": "text/x-python",
   "name": "python",
   "nbconvert_exporter": "python",
   "pygments_lexer": "ipython3",
   "version": "3.8.10"
  }
 },
 "nbformat": 4,
 "nbformat_minor": 5
}
