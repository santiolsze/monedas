{
 "cells": [
  {
   "cell_type": "code",
   "execution_count": 12,
   "id": "b7de5fcf",
   "metadata": {},
   "outputs": [],
   "source": [
    "import random\n",
    "import numpy as np"
   ]
  },
  {
   "cell_type": "code",
   "execution_count": 13,
   "id": "3abf707d",
   "metadata": {},
   "outputs": [],
   "source": [
    "class Moneda:\n",
    "    def __init__(self):\n",
    "        self.historial = \"\"\n",
    "        \n",
    "    def tirar_una(self):\n",
    "        self.historial += str(random.randint(0,1))\n",
    "\n",
    "            \n",
    "    def evaluar(self, secuencia):\n",
    "        return secuencia in self.historial\n",
    "    "
   ]
  },
  {
   "cell_type": "code",
   "execution_count": 14,
   "id": "ac86e52a",
   "metadata": {},
   "outputs": [],
   "source": [
    "# Cantidad de experimentos a repetir\n",
    "k  = int(1e6)"
   ]
  },
  {
   "cell_type": "code",
   "execution_count": 15,
   "id": "3b121bff",
   "metadata": {},
   "outputs": [],
   "source": [
    "# Esta lista guarda los resultados de cada experimento. \n",
    "resultados100 = []\n",
    "# Para cada experimento ...\n",
    "for n in range(k):\n",
    "    # Crear un experimento \n",
    "    moneda = Moneda()\n",
    "    # Mientras que no aparezca la secuencia X00...\n",
    "    while not moneda.evaluar(\"100\"):\n",
    "        # Tirá la moneda\n",
    "        moneda.tirar_una()\n",
    "        # Si apareció la secuencia, guardá la cantidad de tiros.\n",
    "        if moneda.evaluar(\"100\"):\n",
    "            resultados100.append(len(moneda.historial))\n",
    "        \n",
    "resultados010 = []\n",
    "for n in range(k):\n",
    "    moneda = Moneda()\n",
    "    while not moneda.evaluar(\"010\"):\n",
    "        moneda.tirar_una()\n",
    "        if moneda.evaluar(\"010\"):\n",
    "            resultados010.append(len(moneda.historial))\n",
    "        \n",
    "resultados001 = []\n",
    "for n in range(k):\n",
    "    moneda = Moneda()\n",
    "    while not moneda.evaluar(\"001\"):\n",
    "        moneda.tirar_una()\n",
    "        if moneda.evaluar(\"001\"):\n",
    "            resultados001.append(len(moneda.historial))\n",
    "\n",
    "\n"
   ]
  },
  {
   "cell_type": "code",
   "execution_count": 16,
   "id": "7fafff31",
   "metadata": {},
   "outputs": [
    {
     "data": {
      "text/plain": [
       "[8.005165, 9.996314, 7.993846]"
      ]
     },
     "execution_count": 16,
     "metadata": {},
     "output_type": "execute_result"
    }
   ],
   "source": [
    "[np.mean(i) for i in [resultados001,resultados010, resultados100]]"
   ]
  },
  {
   "cell_type": "code",
   "execution_count": null,
   "id": "3d9d89ec",
   "metadata": {},
   "outputs": [],
   "source": []
  }
 ],
 "metadata": {
  "kernelspec": {
   "display_name": "Python 3 (ipykernel)",
   "language": "python",
   "name": "python3"
  },
  "language_info": {
   "codemirror_mode": {
    "name": "ipython",
    "version": 3
   },
   "file_extension": ".py",
   "mimetype": "text/x-python",
   "name": "python",
   "nbconvert_exporter": "python",
   "pygments_lexer": "ipython3",
   "version": "3.8.10"
  }
 },
 "nbformat": 4,
 "nbformat_minor": 5
}
